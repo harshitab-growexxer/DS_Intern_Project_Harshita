{
  "nbformat": 4,
  "nbformat_minor": 0,
  "metadata": {
    "colab": {
      "provenance": []
    },
    "kernelspec": {
      "name": "python3",
      "display_name": "Python 3"
    },
    "language_info": {
      "name": "python"
    }
  },
  "cells": [
    {
      "cell_type": "code",
      "source": [
        "from google.colab import drive\n",
        "drive.mount('/content/drive')"
      ],
      "metadata": {
        "colab": {
          "base_uri": "https://localhost:8080/"
        },
        "id": "TlCsuVB9TiSJ",
        "outputId": "b80509b8-8918-47b8-c861-8236c6b67175"
      },
      "execution_count": null,
      "outputs": [
        {
          "output_type": "stream",
          "name": "stdout",
          "text": [
            "Mounted at /content/drive\n"
          ]
        }
      ]
    },
    {
      "cell_type": "markdown",
      "source": [
        "# Data Initialization"
      ],
      "metadata": {
        "id": "bvf_Z0GNuG7X"
      }
    },
    {
      "cell_type": "code",
      "execution_count": null,
      "metadata": {
        "id": "lvMcQSAFTYmt"
      },
      "outputs": [],
      "source": [
        "import pandas as pd\n",
        "\n",
        "# Load training and test data\n",
        "train_data = pd.read_csv('/content/drive/MyDrive/turbofan dataset/train_FD002.txt', delim_whitespace=True, header=None)\n",
        "test_data = pd.read_csv('/content/drive/MyDrive/turbofan dataset/test_FD002.txt', delim_whitespace=True, header=None)\n",
        "rul_data = pd.read_csv('/content/drive/MyDrive/turbofan dataset/RUL_FD002.txt', delim_whitespace=True, header=None)"
      ]
    },
    {
      "cell_type": "code",
      "source": [
        "column_names = [\"engine_id\" , \"time_in_cycles\" , \"altitude\" , \"mach_no\" , \"throttle_angle\" , \"fan_inlet_temp\" , \"LPC_outlet_temp\" , \"HPC_outlet_temp\" , \"LPT_outlet_temp\" , \"fan_inlet_pressure\" , \"bypass_duct_pressure\" , \"HPC_outlet_pressure\" , \"fan_speed\" , \"core_speed\" , \"engine_pressure_ratio\" , \"HPC_outlet_static_pressure\" , \"fuel_ps30_ratio\" , \"corrected_fan_speed\" , \"corrected_core_speed\" , \"bypass_ratio\" , \"burner_fuel_air_ratio\" , \"bleed_enthalpy\" , \"demanded_fan_speed\" , \"demanded_corrected_fan_speed\" , \"HPT_coolant_bleed\" , \"LPT_coolant_bleed\"]\n",
        "train_data.columns = column_names\n",
        "test_data.columns = column_names"
      ],
      "metadata": {
        "id": "EeLI6DkYT61H"
      },
      "execution_count": null,
      "outputs": []
    },
    {
      "cell_type": "code",
      "source": [
        "train_data['RUL'] = train_data.groupby('engine_id')['time_in_cycles'].transform(max) - train_data['time_in_cycles']"
      ],
      "metadata": {
        "id": "HwfBoO2BT9vz"
      },
      "execution_count": null,
      "outputs": []
    },
    {
      "cell_type": "code",
      "source": [
        "# pd.options.display.max_rows = 1000\n",
        "# train_data['RUL'].value_counts()"
      ],
      "metadata": {
        "id": "O598TFtFhP6U"
      },
      "execution_count": null,
      "outputs": []
    },
    {
      "cell_type": "markdown",
      "source": [
        "# Imports"
      ],
      "metadata": {
        "id": "N7RSy_1MuKXB"
      }
    },
    {
      "cell_type": "code",
      "source": [
        "import pandas as pd\n",
        "import numpy as np\n",
        "from sklearn.naive_bayes import GaussianNB\n",
        "from sklearn.preprocessing import StandardScaler, KBinsDiscretizer\n",
        "from sklearn.metrics import mean_squared_error, r2_score, mean_absolute_error\n",
        "from sklearn.decomposition import PCA\n",
        "from sklearn.pipeline import Pipeline\n",
        "from sklearn.model_selection import train_test_split"
      ],
      "metadata": {
        "id": "Z3z8mZ45iHUT"
      },
      "execution_count": null,
      "outputs": []
    },
    {
      "cell_type": "code",
      "source": [
        "import pandas as pd\n",
        "import numpy as np\n",
        "from sklearn.svm import SVR\n",
        "from sklearn.naive_bayes import GaussianNB\n",
        "from sklearn.metrics import mean_squared_error, r2_score, mean_absolute_error\n",
        "from sklearn.preprocessing import StandardScaler\n",
        "from sklearn.model_selection import train_test_split"
      ],
      "metadata": {
        "id": "Cl8czl6bt804"
      },
      "execution_count": null,
      "outputs": []
    },
    {
      "cell_type": "markdown",
      "source": [
        "# Scaling and PCA"
      ],
      "metadata": {
        "id": "lWUaJMNOuMwj"
      }
    },
    {
      "cell_type": "code",
      "source": [
        "# Feature selection (excluding engine_id, time_in_cycles, and RUL)\n",
        "features = train_data.columns.difference(['engine_id', 'time_in_cycles', 'RUL'])\n",
        "\n",
        "# Standardize features\n",
        "scaler = StandardScaler()\n",
        "train_data[features] = scaler.fit_transform(train_data[features])\n",
        "test_data[features] = scaler.transform(test_data[features])"
      ],
      "metadata": {
        "id": "STArMI_Cjf6l"
      },
      "execution_count": null,
      "outputs": []
    },
    {
      "cell_type": "code",
      "source": [
        "# Feature Engineering: PCA for dimensionality reduction\n",
        "pca = PCA(n_components=10)\n",
        "train_data_pca = pca.fit_transform(train_data[features])\n",
        "test_data_pca = pca.transform(test_data[features])"
      ],
      "metadata": {
        "id": "ij2hrsxAjh1E"
      },
      "execution_count": null,
      "outputs": []
    },
    {
      "cell_type": "markdown",
      "source": [
        "# Binning"
      ],
      "metadata": {
        "id": "ie827DQmuPdz"
      }
    },
    {
      "cell_type": "code",
      "source": [
        "# Discretize the RUL into bins\n",
        "num_bins = 20  # Increase the number of bins for more granularity\n",
        "kbins = KBinsDiscretizer(n_bins=num_bins, encode='ordinal', strategy='uniform')\n",
        "train_data['RUL_binned'] = kbins.fit_transform(train_data[['RUL']])\n",
        "\n",
        "# Prepare target variable\n",
        "y_train_binned = train_data['RUL_binned']\n",
        "\n",
        "# Train Gaussian Naive Bayes classifier\n",
        "gnb = GaussianNB()\n",
        "gnb.fit(train_data_pca, y_train_binned)"
      ],
      "metadata": {
        "colab": {
          "base_uri": "https://localhost:8080/",
          "height": 75
        },
        "id": "yw64-QtOjjrm",
        "outputId": "73960fed-1346-4530-c5ef-1aafae0c3ac7"
      },
      "execution_count": null,
      "outputs": [
        {
          "output_type": "execute_result",
          "data": {
            "text/plain": [
              "GaussianNB()"
            ],
            "text/html": [
              "<style>#sk-container-id-1 {color: black;background-color: white;}#sk-container-id-1 pre{padding: 0;}#sk-container-id-1 div.sk-toggleable {background-color: white;}#sk-container-id-1 label.sk-toggleable__label {cursor: pointer;display: block;width: 100%;margin-bottom: 0;padding: 0.3em;box-sizing: border-box;text-align: center;}#sk-container-id-1 label.sk-toggleable__label-arrow:before {content: \"▸\";float: left;margin-right: 0.25em;color: #696969;}#sk-container-id-1 label.sk-toggleable__label-arrow:hover:before {color: black;}#sk-container-id-1 div.sk-estimator:hover label.sk-toggleable__label-arrow:before {color: black;}#sk-container-id-1 div.sk-toggleable__content {max-height: 0;max-width: 0;overflow: hidden;text-align: left;background-color: #f0f8ff;}#sk-container-id-1 div.sk-toggleable__content pre {margin: 0.2em;color: black;border-radius: 0.25em;background-color: #f0f8ff;}#sk-container-id-1 input.sk-toggleable__control:checked~div.sk-toggleable__content {max-height: 200px;max-width: 100%;overflow: auto;}#sk-container-id-1 input.sk-toggleable__control:checked~label.sk-toggleable__label-arrow:before {content: \"▾\";}#sk-container-id-1 div.sk-estimator input.sk-toggleable__control:checked~label.sk-toggleable__label {background-color: #d4ebff;}#sk-container-id-1 div.sk-label input.sk-toggleable__control:checked~label.sk-toggleable__label {background-color: #d4ebff;}#sk-container-id-1 input.sk-hidden--visually {border: 0;clip: rect(1px 1px 1px 1px);clip: rect(1px, 1px, 1px, 1px);height: 1px;margin: -1px;overflow: hidden;padding: 0;position: absolute;width: 1px;}#sk-container-id-1 div.sk-estimator {font-family: monospace;background-color: #f0f8ff;border: 1px dotted black;border-radius: 0.25em;box-sizing: border-box;margin-bottom: 0.5em;}#sk-container-id-1 div.sk-estimator:hover {background-color: #d4ebff;}#sk-container-id-1 div.sk-parallel-item::after {content: \"\";width: 100%;border-bottom: 1px solid gray;flex-grow: 1;}#sk-container-id-1 div.sk-label:hover label.sk-toggleable__label {background-color: #d4ebff;}#sk-container-id-1 div.sk-serial::before {content: \"\";position: absolute;border-left: 1px solid gray;box-sizing: border-box;top: 0;bottom: 0;left: 50%;z-index: 0;}#sk-container-id-1 div.sk-serial {display: flex;flex-direction: column;align-items: center;background-color: white;padding-right: 0.2em;padding-left: 0.2em;position: relative;}#sk-container-id-1 div.sk-item {position: relative;z-index: 1;}#sk-container-id-1 div.sk-parallel {display: flex;align-items: stretch;justify-content: center;background-color: white;position: relative;}#sk-container-id-1 div.sk-item::before, #sk-container-id-1 div.sk-parallel-item::before {content: \"\";position: absolute;border-left: 1px solid gray;box-sizing: border-box;top: 0;bottom: 0;left: 50%;z-index: -1;}#sk-container-id-1 div.sk-parallel-item {display: flex;flex-direction: column;z-index: 1;position: relative;background-color: white;}#sk-container-id-1 div.sk-parallel-item:first-child::after {align-self: flex-end;width: 50%;}#sk-container-id-1 div.sk-parallel-item:last-child::after {align-self: flex-start;width: 50%;}#sk-container-id-1 div.sk-parallel-item:only-child::after {width: 0;}#sk-container-id-1 div.sk-dashed-wrapped {border: 1px dashed gray;margin: 0 0.4em 0.5em 0.4em;box-sizing: border-box;padding-bottom: 0.4em;background-color: white;}#sk-container-id-1 div.sk-label label {font-family: monospace;font-weight: bold;display: inline-block;line-height: 1.2em;}#sk-container-id-1 div.sk-label-container {text-align: center;}#sk-container-id-1 div.sk-container {/* jupyter's `normalize.less` sets `[hidden] { display: none; }` but bootstrap.min.css set `[hidden] { display: none !important; }` so we also need the `!important` here to be able to override the default hidden behavior on the sphinx rendered scikit-learn.org. See: https://github.com/scikit-learn/scikit-learn/issues/21755 */display: inline-block !important;position: relative;}#sk-container-id-1 div.sk-text-repr-fallback {display: none;}</style><div id=\"sk-container-id-1\" class=\"sk-top-container\"><div class=\"sk-text-repr-fallback\"><pre>GaussianNB()</pre><b>In a Jupyter environment, please rerun this cell to show the HTML representation or trust the notebook. <br />On GitHub, the HTML representation is unable to render, please try loading this page with nbviewer.org.</b></div><div class=\"sk-container\" hidden><div class=\"sk-item\"><div class=\"sk-estimator sk-toggleable\"><input class=\"sk-toggleable__control sk-hidden--visually\" id=\"sk-estimator-id-1\" type=\"checkbox\" checked><label for=\"sk-estimator-id-1\" class=\"sk-toggleable__label sk-toggleable__label-arrow\">GaussianNB</label><div class=\"sk-toggleable__content\"><pre>GaussianNB()</pre></div></div></div></div></div>"
            ]
          },
          "metadata": {},
          "execution_count": 9
        }
      ]
    },
    {
      "cell_type": "markdown",
      "source": [
        "# LR"
      ],
      "metadata": {
        "id": "E1SgAjXxsJ4v"
      }
    },
    {
      "cell_type": "code",
      "source": [
        "# Extract the last cycle for each engine in the test set\n",
        "last_cycle_indices = test_data.groupby('engine_id')['time_in_cycles'].idxmax()\n",
        "X_test_last_cycles = test_data.loc[last_cycle_indices, features]\n",
        "X_test_last_cycles_pca = pca.transform(X_test_last_cycles)\n",
        "\n",
        "# Predict the RUL bins for the last cycles of each engine\n",
        "y_pred_binned = gnb.predict(X_test_last_cycles_pca)\n",
        "\n",
        "# Convert the predicted bins back to continuous RUL values using the bin midpoints\n",
        "bin_edges = kbins.bin_edges_[0]\n",
        "bin_midpoints = (bin_edges[:-1] + bin_edges[1:]) / 2\n",
        "y_pred_continuous = bin_midpoints[y_pred_binned.astype(int)]\n",
        "\n",
        "# True RUL values from the provided RUL file\n",
        "true_rul = rul_data.values.flatten()"
      ],
      "metadata": {
        "id": "izFRemfpjlj4"
      },
      "execution_count": null,
      "outputs": []
    },
    {
      "cell_type": "code",
      "source": [
        "# # Calculate evaluation metrics\n",
        "# # for bins = 20 and pca components = 10\n",
        "# mse = mean_squared_error(true_rul, y_pred_continuous)\n",
        "# rmse = np.sqrt(mse)\n",
        "# r2 = r2_score(true_rul, y_pred_continuous)\n",
        "# mae = mean_absolute_error(true_rul, y_pred_continuous)\n",
        "\n",
        "# print(f'Naive Bayes - Root Mean Squared Error (RMSE): {rmse}')\n",
        "# print(f'Naive Bayes - R² Score: {r2}')\n",
        "# print(f'Naive Bayes - Mean Absolute Error (MAE): {mae}')"
      ],
      "metadata": {
        "colab": {
          "base_uri": "https://localhost:8080/"
        },
        "id": "sAHF9fLniZ6u",
        "outputId": "69a01a00-e6f4-4362-f460-2bbe9d3a3553"
      },
      "execution_count": null,
      "outputs": [
        {
          "output_type": "stream",
          "name": "stdout",
          "text": [
            "Naive Bayes - Root Mean Squared Error (RMSE): 34.55778870435918\n",
            "Naive Bayes - R² Score: 0.5870763389902611\n",
            "Naive Bayes - Mean Absolute Error (MAE): 25.410328185328183\n"
          ]
        }
      ]
    },
    {
      "cell_type": "code",
      "source": [
        "# # Calculate evaluation metrics\n",
        "# # # for bins = 20 and pca components = 15\n",
        "# mse = mean_squared_error(true_rul, y_pred_continuous)\n",
        "# rmse = np.sqrt(mse)\n",
        "# r2 = r2_score(true_rul, y_pred_continuous)\n",
        "# mae = mean_absolute_error(true_rul, y_pred_continuous)\n",
        "\n",
        "# print(f'Naive Bayes - Root Mean Squared Error (RMSE): {rmse}')\n",
        "# print(f'Naive Bayes - R² Score: {r2}')\n",
        "# print(f'Naive Bayes - Mean Absolute Error (MAE): {mae}')"
      ],
      "metadata": {
        "colab": {
          "base_uri": "https://localhost:8080/"
        },
        "id": "V5EX7_qBjbSM",
        "outputId": "f2ad6168-dff6-4bb7-de3a-c1b986318ef9"
      },
      "execution_count": null,
      "outputs": [
        {
          "output_type": "stream",
          "name": "stdout",
          "text": [
            "Naive Bayes - Root Mean Squared Error (RMSE): 35.03799795473017\n",
            "Naive Bayes - R² Score: 0.5755207696163245\n",
            "Naive Bayes - Mean Absolute Error (MAE): 25.518243243243244\n"
          ]
        }
      ]
    },
    {
      "cell_type": "markdown",
      "source": [
        "# XGB"
      ],
      "metadata": {
        "id": "xVwPa8YNsHmA"
      }
    },
    {
      "cell_type": "markdown",
      "source": [
        "## just xgboost with naive bayes"
      ],
      "metadata": {
        "id": "O-xAwIXNtm3S"
      }
    },
    {
      "cell_type": "code",
      "source": [
        "import xgboost as xgb\n",
        "\n",
        "# Extract the last cycle for each engine in the test set\n",
        "last_cycle_indices = test_data.groupby('engine_id')['time_in_cycles'].idxmax()\n",
        "X_test_last_cycles = test_data.loc[last_cycle_indices, features]\n",
        "X_test_last_cycles_pca = pca.transform(X_test_last_cycles)\n",
        "\n",
        "# Use XGBoost to train on the PCA-transformed features\n",
        "model_xgb = xgb.XGBRegressor(objective='reg:squarederror', n_estimators=100, max_depth=5, learning_rate=0.1)\n",
        "model_xgb.fit(train_data_pca, train_data['RUL'])\n",
        "\n",
        "# Make predictions for the last cycles of each engine using XGBoost\n",
        "y_pred_last_cycles_xgb = model_xgb.predict(X_test_last_cycles_pca)\n",
        "\n",
        "# True RUL values from the provided RUL file\n",
        "true_rul = rul_data.values.flatten()\n",
        "\n",
        "# Calculate evaluation metrics\n",
        "mse_xgb = mean_squared_error(true_rul, y_pred_last_cycles_xgb)\n",
        "rmse_xgb = np.sqrt(mse_xgb)\n",
        "r2_xgb = r2_score(true_rul, y_pred_last_cycles_xgb)\n",
        "mae_xgb = mean_absolute_error(true_rul, y_pred_last_cycles_xgb)\n",
        "\n",
        "print(f'XGBoost with PCA and Naive Bayes - Root Mean Squared Error (RMSE): {rmse_xgb}')\n",
        "print(f'XGBoost with PCA and Naive Bayes - R² Score: {r2_xgb}')\n",
        "print(f'XGBoost with PCA and Naive Bayes - Mean Absolute Error (MAE): {mae_xgb}')"
      ],
      "metadata": {
        "colab": {
          "base_uri": "https://localhost:8080/"
        },
        "id": "60XGBCPssRzD",
        "outputId": "f8eff349-65b6-420e-8f81-73a3bbccbfab"
      },
      "execution_count": null,
      "outputs": [
        {
          "output_type": "stream",
          "name": "stdout",
          "text": [
            "XGBoost with PCA and Naive Bayes - Root Mean Squared Error (RMSE): 30.43566411890036\n",
            "XGBoost with PCA and Naive Bayes - R² Score: 0.6797099518822081\n",
            "XGBoost with PCA and Naive Bayes - Mean Absolute Error (MAE): 22.49257443597878\n"
          ]
        }
      ]
    },
    {
      "cell_type": "markdown",
      "source": [
        "## xgboost combined with naive bayes"
      ],
      "metadata": {
        "id": "V9xAIdYstgvb"
      }
    },
    {
      "cell_type": "code",
      "source": [
        "import xgboost as xgb\n",
        "# Extract the last cycle for each engine in the test set\n",
        "last_cycle_indices = test_data.groupby('engine_id')['time_in_cycles'].idxmax()\n",
        "X_test_last_cycles = test_data.loc[last_cycle_indices, features]\n",
        "X_test_last_cycles_pca = pca.transform(X_test_last_cycles)\n",
        "\n",
        "# Predict the RUL bins for the last cycles of each engine using Naive Bayes\n",
        "y_pred_binned = gnb.predict(X_test_last_cycles_pca)\n",
        "\n",
        "# Convert the predicted bins back to continuous RUL values using the bin midpoints\n",
        "bin_edges = kbins.bin_edges_[0]\n",
        "bin_midpoints = (bin_edges[:-1] + bin_edges[1:]) / 2\n",
        "y_pred_continuous_nb = bin_midpoints[y_pred_binned.astype(int)]\n",
        "\n",
        "# Train the XGBoost model\n",
        "model_xgb = xgb.XGBRegressor(objective='reg:squarederror', n_estimators=100, max_depth=5, learning_rate=0.1)\n",
        "model_xgb.fit(train_data[features], train_data['RUL'])\n",
        "\n",
        "# Make predictions for the last cycles of each engine using XGBoost\n",
        "y_pred_last_cycles_xgb = model_xgb.predict(X_test_last_cycles)\n",
        "\n",
        "# Combine predictions (here we use simple averaging)\n",
        "y_pred_combined = (y_pred_continuous_nb + y_pred_last_cycles_xgb) / 2\n",
        "\n",
        "# True RUL values from the provided RUL file\n",
        "true_rul = rul_data.values.flatten()\n",
        "\n",
        "# Calculate evaluation metrics for combined model\n",
        "mse_combined = mean_squared_error(true_rul, y_pred_combined)\n",
        "rmse_combined = np.sqrt(mse_combined)\n",
        "r2_combined = r2_score(true_rul, y_pred_combined)\n",
        "mae_combined = mean_absolute_error(true_rul, y_pred_combined)\n",
        "\n",
        "print(f'Combined Model - Root Mean Squared Error (RMSE): {rmse_combined}')\n",
        "print(f'Combined Model - R² Score: {r2_combined}')\n",
        "print(f'Combined Model - Mean Absolute Error (MAE): {mae_combined}')"
      ],
      "metadata": {
        "id": "mBYNft7Ol4FN",
        "colab": {
          "base_uri": "https://localhost:8080/"
        },
        "outputId": "97216349-495a-4f43-ba01-5fa16c90f146"
      },
      "execution_count": null,
      "outputs": [
        {
          "output_type": "stream",
          "name": "stdout",
          "text": [
            "Combined Model - Root Mean Squared Error (RMSE): 29.891337829184224\n",
            "Combined Model - R² Score: 0.6910639529951415\n",
            "Combined Model - Mean Absolute Error (MAE): 21.454691449164425\n"
          ]
        }
      ]
    }
  ]
}