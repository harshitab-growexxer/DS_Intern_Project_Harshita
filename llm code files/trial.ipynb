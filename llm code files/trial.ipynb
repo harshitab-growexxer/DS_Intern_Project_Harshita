{
  "cells": [
    {
      "cell_type": "markdown",
      "metadata": {},
      "source": [
        "### Pip installs"
      ]
    },
    {
      "cell_type": "code",
      "execution_count": null,
      "metadata": {
        "colab": {
          "base_uri": "https://localhost:8080/"
        },
        "id": "2mCCcfTPshC_",
        "outputId": "f226e707-5f7e-4a2c-a7e9-054726c94a20"
      },
      "outputs": [],
      "source": [
        "!pip install langchain_core\n",
        "!pip install langchain_groq"
      ]
    },
    {
      "cell_type": "code",
      "execution_count": null,
      "metadata": {},
      "outputs": [],
      "source": [
        "pip install configparser"
      ]
    },
    {
      "cell_type": "markdown",
      "metadata": {},
      "source": [
        "### Imports"
      ]
    },
    {
      "cell_type": "code",
      "execution_count": null,
      "metadata": {},
      "outputs": [],
      "source": [
        "from langchain_core.runnables import RunnablePassthrough\n",
        "from langchain_core.output_parsers import StrOutputParser\n",
        "from langchain_core.prompts import ChatPromptTemplate\n",
        "from langchain_groq import ChatGroq\n",
        "import psycopg2\n",
        "import configparser"
      ]
    },
    {
      "cell_type": "markdown",
      "metadata": {},
      "source": [
        "### DB Connection and getting db schema"
      ]
    },
    {
      "cell_type": "code",
      "execution_count": null,
      "metadata": {},
      "outputs": [],
      "source": [
        "# Function to establish connection with PostgreSQL database using psycopg2\n",
        "def connect_to_db(host: str, port: str, user: str, passwd: str, db_name: str):\n",
        "    conn = psycopg2.connect(\n",
        "        host=host,\n",
        "        port=port,\n",
        "        user=user,\n",
        "        password=passwd,\n",
        "        database=db_name\n",
        "    )\n",
        "    return conn"
      ]
    },
    {
      "cell_type": "code",
      "execution_count": null,
      "metadata": {},
      "outputs": [],
      "source": [
        "# Function to fetch table and column information from the database schema\n",
        "def get_db_schema(conn, table_name):\n",
        "    cursor = conn.cursor()\n",
        "    cursor.execute(f\"\"\"\n",
        "        SELECT column_name\n",
        "        FROM information_schema.columns\n",
        "        WHERE table_schema='public' AND table_name='{table_name}'\n",
        "    \"\"\")\n",
        "    schema_info = [row[0] for row in cursor.fetchall()]\n",
        "    cursor.close()\n",
        "    return schema_info"
      ]
    },
    {
      "cell_type": "markdown",
      "metadata": {},
      "source": [
        "### Creating and Executing SQL Query"
      ]
    },
    {
      "cell_type": "code",
      "execution_count": null,
      "metadata": {},
      "outputs": [],
      "source": [
        "# Function to create SQL query generation chain\n",
        "def create_sql_chain(conn, target_table, question, groq_api_key):\n",
        "    schema_info = get_db_schema(conn, target_table)\n",
        "\n",
        "    template = f\"\"\"\n",
        "        Based on the table schema of table '{target_table}', write a SQL query to answer the question.\n",
        "        Only provide the SQL query, without any additional text or characters.\n",
        "\n",
        "        Table schema: {schema_info}\n",
        "        Question: {question}\n",
        "\n",
        "        SQL Query:\n",
        "    \"\"\"\n",
        "    prompt = ChatPromptTemplate.from_template(template=template)\n",
        "    llm = ChatGroq(model=\"llama3-8b-8192\", temperature=0.2, groq_api_key=groq_api_key)\n",
        "\n",
        "    return (\n",
        "        RunnablePassthrough(assignments={\"schema\": schema_info, \"question\": question})\n",
        "        | prompt\n",
        "        | llm\n",
        "        | StrOutputParser()\n",
        "    )"
      ]
    },
    {
      "cell_type": "code",
      "execution_count": null,
      "metadata": {},
      "outputs": [],
      "source": [
        "# Function to execute SQL query on the database and fetch results\n",
        "def execute_sql_query(conn, sql_query):\n",
        "    cursor = conn.cursor()\n",
        "    cursor.execute(sql_query)\n",
        "    results = cursor.fetchall()\n",
        "    cursor.close()\n",
        "    return results"
      ]
    },
    {
      "cell_type": "markdown",
      "metadata": {},
      "source": [
        "### Getting the answer in natural language"
      ]
    },
    {
      "cell_type": "code",
      "execution_count": null,
      "metadata": {},
      "outputs": [],
      "source": [
        "# Function to create natural language response based on SQL query results\n",
        "def create_nlp_answer(conn, sql_query, results, groq_api_key):\n",
        "    results_str = \"\\n\".join([str(row) for row in results])\n",
        "\n",
        "    template = f\"\"\"\n",
        "        Based on the results of the SQL query '{sql_query}', write a natural language response.\n",
        "\n",
        "        Query Results:\n",
        "        {results_str}\n",
        "    \"\"\"\n",
        "    prompt = ChatPromptTemplate.from_template(template=template)\n",
        "    llm = ChatGroq(model=\"llama3-8b-8192\", temperature=0.2, groq_api_key=groq_api_key)\n",
        "\n",
        "    return (\n",
        "        RunnablePassthrough(assignments={\"sql_query\": sql_query, \"results\": results_str})\n",
        "        | prompt\n",
        "        | llm\n",
        "        | StrOutputParser()\n",
        "    )"
      ]
    },
    {
      "cell_type": "markdown",
      "metadata": {},
      "source": [
        "### main function"
      ]
    },
    {
      "cell_type": "code",
      "execution_count": null,
      "metadata": {},
      "outputs": [],
      "source": [
        "def main():\n",
        "    hostname = config['database']['hostname']\n",
        "    username = config['database']['username']\n",
        "    password = config['database']['password']\n",
        "    database_name = config['database']['database_name']\n",
        "    port = config['database']['port']\n",
        "    target_table = config['database']['target_table']\n",
        "    groq_api_key = config['api']['groq_api_key']\n",
        "    \n",
        "    conn = connect_to_db(hostname, port, username, password, database_name)\n",
        "    print(\"Connected to the database successfully!\")\n",
        "\n",
        "    while True:\n",
        "        user_query = input(f\"Ask your database a question about {target_table} (or type 'exit', 'quit', or '1' to stop): \")\n",
        "        if user_query.lower() in ['exit', 'quit', '1']:\n",
        "            print(\"Exiting the loop. Goodbye!\")\n",
        "            break\n",
        "\n",
        "        sql_chain = create_sql_chain(conn, target_table, user_query, groq_api_key)\n",
        "        sql_query_response = sql_chain.invoke({})\n",
        "        sql_query = sql_query_response.strip()\n",
        "        print(f\"Generated SQL Query:\\n{sql_query}\")\n",
        "\n",
        "        results = execute_sql_query(conn, sql_query)\n",
        "        if results:\n",
        "            for row in results:\n",
        "                print(row)\n",
        "            # Generate natural language response\n",
        "            nlp_chain = create_nlp_answer(conn, sql_query, results, groq_api_key)\n",
        "            nlp_response = nlp_chain.invoke({})\n",
        "            print(f\"Natural Language Response:\\n{nlp_response}\")\n",
        "        else:\n",
        "            print(\"No results found or error occurred.\")\n",
        "\n",
        "    conn.close()\n",
        "\n",
        "if __name__ == \"__main__\":\n",
        "    main()"
      ]
    }
  ],
  "metadata": {
    "colab": {
      "provenance": []
    },
    "kernelspec": {
      "display_name": "Python 3",
      "name": "python3"
    },
    "language_info": {
      "codemirror_mode": {
        "name": "ipython",
        "version": 3
      },
      "file_extension": ".py",
      "mimetype": "text/x-python",
      "name": "python",
      "nbconvert_exporter": "python",
      "pygments_lexer": "ipython3",
      "version": "3.10.12"
    }
  },
  "nbformat": 4,
  "nbformat_minor": 0
}
